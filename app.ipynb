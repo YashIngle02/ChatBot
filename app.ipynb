{
 "cells": [
  {
   "cell_type": "code",
   "execution_count": null,
   "id": "5035bab0-5885-47de-b6e9-d77f41c563ee",
   "metadata": {},
   "outputs": [],
   "source": [
    "from flask import Flask, request, jsonify, render_template\n",
    "from transformers import pipeline\n",
    "import json\n",
    "from sentence_transformers import SentenceTransformer, util\n",
    "\n",
    "app = Flask(__name__)\n",
    "\n",
    "# Load the Ecommerce FAQ Chatbot dataset\n",
    "with open('Ecommerce_FAQ_Chatbot_dataset.json', 'r') as f:\n",
    "    faq_data = json.load(f)\n",
    "\n",
    "from sentence_transformers import SentenceTransformer, util\n",
    "\n",
    "# Load a pre-trained sentence transformer model\n",
    "model = SentenceTransformer('all-MiniLM-L6-v2')\n",
    "\n",
    "# Prepare the dataset by encoding all FAQ questions\n",
    "faq_list = faq_data['questions']\n",
    "faq_questions = [item['question'] for item in faq_list]\n",
    "faq_embeddings = model.encode(faq_questions, convert_to_tensor=True)\n",
    "\n",
    "def find_answer(user_question):\n",
    "    # Encode the user's question\n",
    "    question_embedding = model.encode(user_question, convert_to_tensor=True)\n",
    "    \n",
    "    # Compute cosine similarities between the user question and the FAQ questions\n",
    "    similarities = util.pytorch_cos_sim(question_embedding, faq_embeddings)\n",
    "    \n",
    "    # Find the FAQ with the highest similarity score\n",
    "    best_match_idx = similarities.argmax().item()\n",
    "    best_answer = faq_list[best_match_idx]['answer']\n",
    "    \n",
    "    return best_answer\n",
    "\n",
    "@app.route('/')\n",
    "def home():\n",
    "    return render_template('index.html')  # Render the HTML page\n",
    "\n",
    "@app.route('/get_answer', methods=['POST'])\n",
    "def get_answer():\n",
    "    user_question = request.form['question']  # Get the user’s question from the form\n",
    "    answer = find_answer(user_question)  # Find the answer to the question using the transformer\n",
    "    return jsonify({'answer': answer})  # Return the answer as JSON\n",
    "\n",
    "if __name__ == '__main__':\n",
    "    app.run(debug=True)\n"
   ]
  },
  {
   "cell_type": "code",
   "execution_count": null,
   "id": "1ad37472-ca52-4c46-92bb-69b26085947b",
   "metadata": {},
   "outputs": [],
   "source": []
  }
 ],
 "metadata": {
  "kernelspec": {
   "display_name": "Python 3 (ipykernel)",
   "language": "python",
   "name": "python3"
  },
  "language_info": {
   "codemirror_mode": {
    "name": "ipython",
    "version": 3
   },
   "file_extension": ".py",
   "mimetype": "text/x-python",
   "name": "python",
   "nbconvert_exporter": "python",
   "pygments_lexer": "ipython3",
   "version": "3.12.2"
  },
  "widgets": {
   "application/vnd.jupyter.widget-state+json": {
    "state": {},
    "version_major": 2,
    "version_minor": 0
   }
  }
 },
 "nbformat": 4,
 "nbformat_minor": 5
}
