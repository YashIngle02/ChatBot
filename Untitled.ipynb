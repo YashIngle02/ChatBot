{
 "cells": [
  {
   "cell_type": "code",
   "execution_count": 1,
   "id": "2a552cbd-2d97-4a3c-ad27-2edfe2eb29b4",
   "metadata": {},
   "outputs": [],
   "source": [
    "from nbconvert import PythonExporter\n",
    "import nbformat\n",
    "\n",
    "with open(\"app.ipynb\",'r') as notebook_file:\n",
    "    notebook_content = nbformat.read(notebook_file,as_version=4)\n",
    "\n",
    "pe = PythonExporter()\n",
    "(script, _) = pe.from_notebook_node(notebook_content)\n",
    "with open(\"app.py\",'w') as script_file:\n",
    "    script_file.write(script)"
   ]
  },
  {
   "cell_type": "code",
   "execution_count": 2,
   "id": "fc8db543-2ac4-41f9-9b2a-8d968b74c6db",
   "metadata": {},
   "outputs": [
    {
     "data": {
      "text/plain": [
       "'D:\\\\PROJECT\\\\Question answering bot'"
      ]
     },
     "execution_count": 2,
     "metadata": {},
     "output_type": "execute_result"
    }
   ],
   "source": [
    "pwd"
   ]
  },
  {
   "cell_type": "code",
   "execution_count": null,
   "id": "37acabf2-89f2-46bc-9193-84f04ce201f4",
   "metadata": {},
   "outputs": [],
   "source": []
  }
 ],
 "metadata": {
  "kernelspec": {
   "display_name": "Python 3 (ipykernel)",
   "language": "python",
   "name": "python3"
  },
  "language_info": {
   "codemirror_mode": {
    "name": "ipython",
    "version": 3
   },
   "file_extension": ".py",
   "mimetype": "text/x-python",
   "name": "python",
   "nbconvert_exporter": "python",
   "pygments_lexer": "ipython3",
   "version": "3.12.2"
  },
  "widgets": {
   "application/vnd.jupyter.widget-state+json": {
    "state": {},
    "version_major": 2,
    "version_minor": 0
   }
  }
 },
 "nbformat": 4,
 "nbformat_minor": 5
}
